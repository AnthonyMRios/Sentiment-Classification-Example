{
 "metadata": {
  "name": "",
  "signature": "sha256:4b3199e27f91a11eaa1e5db2d8ec0b7baa558f24ca6e02e108c5e88677936470"
 },
 "nbformat": 3,
 "nbformat_minor": 0,
 "worksheets": [
  {
   "cells": [
    {
     "cell_type": "markdown",
     "metadata": {},
     "source": [
      "# Building a sentiment classifier for twitter and SMS messages.\n",
      "\n",
      "## Description\n",
      "The goal of this experiment is to train a sentiment classifier on a twitter dataset that could generalize to SMS messages or possibly other short text messages.\n",
      "\n",
      "## Sentiment Lexicons\n",
      "- NRC Emotion Lexicon\n",
      "    - http://www.saifmohammad.com/\n",
      "- MPQA Sentiment Lexicon\n",
      "    - http://mpqa.cs.pitt.edu/lexicons/subj_lexicon/\n",
      "- Bing Liu Sentiment Lexicon\n",
      "    - http://www.cs.uic.edu/~liub/FBS/sentiment-analysis.html#lexicon\n",
      "- Hashtag Sentiment Lexicon\n",
      "    - http://www.umiacs.umd.edu/~saif/WebPages/Abstracts/NRC-SentimentAnalysis.htm\n",
      "- Sentiment140 Lexicon\n",
      "    - http://www.umiacs.umd.edu/~saif/WebPages/Abstracts/NRC-SentimentAnalysis.htm\n",
      "    \n",
      "## Dataset\n",
      "The training and testing datasets were obtained from the SemEval-2013 task 2 competition. The training dataset contains a total of 8,018 tweets (It did contain around 9,000 for the competition, however, around 1000 are no longer available). There are 3,878 neurtral/objective tweets, 1162 negative tweets, and 2,978 positive tweets. The testing dataset is split into 2 categories, SMS and twitter. It is important to note that there were no SMS messages in the training data. This experiment will show how a sentiment classifier trained on twitter data can generalize to other short messages. The sentiment testset for SMS has 2,094 messages and the twitter dataset has 3813.\n",
      "\n",
      "## Features\n",
      "Many of the features I use for the classifier are based on one of the top performers in the SemEval-2013 task 2 competiton. A complete look at everything they used can be viewed here:\n",
      "http://www.umiacs.umd.edu/~saif/WebPages/Abstracts/NRC-SentimentAnalysis.htm\n",
      "\n",
      "- Word ngrams:\n",
      "    - unigrams and bigrams\n",
      "- All-Caps\n",
      "    - The number of all capped words in a message.\n",
      "- <s>Emoticons</s>\n",
      "    - <s>boolean 1/0 for the presence/absence of a positive emoticon.</s>\n",
      "    - <s>boolean 1/0 for the presence/absence of a negative emoticon.</s>\n",
      "    - <s>Whether (boolean 1/0) the last token is a positive emoticon.</s>\n",
      "    - <s>Whether (boolean 1/0) the last token is a negative emoticon.</s>\n",
      "- Punctuation\n",
      "    - Number of contiguous sequence of question marks.\n",
      "    - Number of contiguous sequence of exclamation marks.\n",
      "    - Number of contiguous sequence of both exclamation and question marks.\n",
      "- Lexicons\n",
      "    - NRC Emotion Lexicon, MPQA Sentiment Lexicon, and Bing Liu Sentiment Lexicon\n",
      "        - The number of posiitive words in a tweet.\n",
      "        - The number of negative words in a tweet.\n",
      "    - Hashtag Sentiment Lexicon and Sentiment140 Lexicon\n",
      "        - The number of words in a tweet with score(w) > 0\n",
      "        - The number of words in a tweet with score(w) < 0\n",
      "        - Sum of all score(word) for all words in the tweet per polarity\n",
      "        - Max score(word) for words in tweet in the tweet per polarity\n",
      "        \n",
      "## Evaluation\n",
      "Macro-FScore is used for evaluation. Let $tp_i$, $fp_i$, $fn_i$ represent true positives, false positives, and false negatives for class_i. Let $M$ be the total number of classes. Macro-FScore is defined below:\n",
      "\n",
      "$$ precision_i = \\frac{tp_i}{tp_i+fp_i}$$\n",
      "\n",
      "$$ recall_i = \\frac{tp_i}{tp_i+fn_i}$$\n",
      "\n",
      "$$ fscore_i = \\frac{2*precision_i*recall_i}{precision_i+recall_i}$$\n",
      "\n",
      "$$ macro-fscore = \\frac{\\sum_i^M fscore_i}{M} $$\n",
      "\n",
      "From the competition the top 3 performers out of 52 entries on testing for both categories (SMS and Twitter) based on macro f1-score:\n",
      "\n",
      "#### Twitter:\n",
      "1. 0.6902\n",
      "2. 0.6527\n",
      "3. 0.6486\n",
      "\n",
      "#### SMS:\n",
      "1. 0.6846\n",
      "2. 0.6215\n",
      "3. 0.6203\n",
      "\n",
      "I used a linear svm (LinearSVC) for my final classification. The C value were chosen using grid-search and 10-fold cross-validation. The best performing C was 0.01. The cross-validation score was 0.6552 which is comparable with the top contestants.\n",
      "\n",
      "On the SMS dataset we obtained an macro averaged f1-score of 0.6818. On the twitter test set we have a score of 0.6594.\n",
      "\n",
      "## Notes\n",
      "It is interesting that our SMS method performed so well. The most likely reason for this is that we avoided many of the twitter specific features when building the classifier used in the top performing method."
     ]
    },
    {
     "cell_type": "markdown",
     "metadata": {},
     "source": [
      "The next cell just loads the dependencies used for this experiment"
     ]
    },
    {
     "cell_type": "code",
     "collapsed": false,
     "input": [
      "from twittToken import twokenize\n",
      "import numpy as np\n",
      "from HTMLParser import HTMLParser\n",
      "import re\n",
      "from sklearn.feature_extraction import DictVectorizer\n",
      "import csv\n",
      "import pylab as pl\n",
      "from time import time"
     ],
     "language": "python",
     "metadata": {},
     "outputs": [],
     "prompt_number": 2
    },
    {
     "cell_type": "code",
     "collapsed": false,
     "input": [
      "%matplotlib inline"
     ],
     "language": "python",
     "metadata": {},
     "outputs": [],
     "prompt_number": 3
    },
    {
     "cell_type": "markdown",
     "metadata": {},
     "source": [
      "The following code blocks load the 5 lexicons used in this experiment."
     ]
    },
    {
     "cell_type": "code",
     "collapsed": false,
     "input": [
      "def loadBingLiuLexicon():\n",
      "    negativeWords = {}\n",
      "    positiveWords = {}\n",
      "    with open('sentimentData/lexicons/bing_liu/negative-words.txt', 'r') as iFile:\n",
      "        for i in iFile:\n",
      "            negativeWords[i.rstrip()] = 1\n",
      "    with open('sentimentData/lexicons/bing_liu/positive-words.txt', 'r') as iFile:\n",
      "        for i in iFile:\n",
      "            positiveWords[i.rstrip()] = 1\n",
      "    return {\"pos\":positiveWords, \"neg\":negativeWords}\n",
      "\n",
      "bingLiu = loadBingLiuLexicon()"
     ],
     "language": "python",
     "metadata": {},
     "outputs": [],
     "prompt_number": 4
    },
    {
     "cell_type": "code",
     "collapsed": false,
     "input": [
      "def loadNRCEmotionLexicon():\n",
      "    negativeWords = {}\n",
      "    positiveWords = {}\n",
      "    with open('sentimentData/lexicons/NRC-Emotion-Lexicon-v0.92/NRC-emotion-lexicon-wordlevel-alphabetized-v0.92.txt','r') as iFile:\n",
      "        iCSV = csv.reader(iFile, delimiter='\\t')\n",
      "        for i in iCSV:\n",
      "            if i[1] == 'positive' and i[2] == '1':\n",
      "                positiveWords[i[0]] = 1\n",
      "            elif i[1] == 'negative' and i[2] == '1':\n",
      "                negativeWords[i[0]] = 1\n",
      "    return {\"pos\":positiveWords, \"neg\":negativeWords}\n",
      "\n",
      "nrcEmotion = loadNRCEmotionLexicon()"
     ],
     "language": "python",
     "metadata": {},
     "outputs": [],
     "prompt_number": 5
    },
    {
     "cell_type": "code",
     "collapsed": false,
     "input": [
      "def loadMPAALexicon():\n",
      "    negativeWords = {}\n",
      "    positiveWords = {}\n",
      "    with open('sentimentData/lexicons/MPAA_Lexicon/subjclueslen1-HLTEMNLP05.tff','r') as iFile:\n",
      "        for i in iFile:\n",
      "            row = i.rstrip().split(' ')\n",
      "            word = row[2].split('=')[1]\n",
      "            pol = row[5].split('=')[1]\n",
      "            if pol == 'positive':\n",
      "                positiveWords[word] = 1\n",
      "            elif pol == 'negative':\n",
      "                negativeWords[word] = 1\n",
      "    return {\"pos\":positiveWords, \"neg\":negativeWords}\n",
      "\n",
      "mpaa = loadMPAALexicon()"
     ],
     "language": "python",
     "metadata": {},
     "outputs": [],
     "prompt_number": 6
    },
    {
     "cell_type": "code",
     "collapsed": false,
     "input": [
      "def loadNRCHashtagLexicon():\n",
      "    negativeWords = {}\n",
      "    positiveWords = {}\n",
      "    with open('./sentimentData/lexicons/NRC-Hashtag-Sentiment-Lexicon-v0.1/unigrams-pmilexicon.txt','r') as iFile:\n",
      "        iCSV = csv.reader(iFile, delimiter='\\t')\n",
      "        for row in iCSV:\n",
      "            if float(row[1]) > 0:\n",
      "                positiveWords[row[0]] = float(row[1])\n",
      "            elif float(row[1]) < 0:\n",
      "                negativeWords[row[0]] = float(row[1])\n",
      "                \n",
      "    return {\"pos\":positiveWords, \"neg\":negativeWords}\n",
      "\n",
      "nrcHashtag = loadNRCHashtagLexicon()\n",
      "\n",
      "def loadNRCHashtagLexiconBigrams():\n",
      "    negativeWords = {}\n",
      "    positiveWords = {}\n",
      "    with open('./sentimentData/lexicons/NRC-Hashtag-Sentiment-Lexicon-v0.1/bigrams-pmilexicon.txt','r') as iFile:\n",
      "        iCSV = csv.reader(iFile, delimiter='\\t')\n",
      "        for row in iCSV:\n",
      "            if float(row[1]) > 0:\n",
      "                positiveWords[row[0]] = float(row[1])\n",
      "            elif float(row[1]) < 0:\n",
      "                negativeWords[row[0]] = float(row[1])\n",
      "                \n",
      "    return {\"pos\":positiveWords, \"neg\":negativeWords}\n",
      "\n",
      "nrcHashtagBigrams = loadNRCHashtagLexiconBigrams()"
     ],
     "language": "python",
     "metadata": {},
     "outputs": [],
     "prompt_number": 7
    },
    {
     "cell_type": "code",
     "collapsed": false,
     "input": [
      "def loadSentiment140Lexicon():\n",
      "    negativeWords = {}\n",
      "    positiveWords = {}\n",
      "    with open('./sentimentData/lexicons/Sentiment140-Lexicon-v0.1/unigrams-pmilexicon.txt','r') as iFile:\n",
      "        iCSV = csv.reader(iFile, delimiter='\\t')\n",
      "        for i in iFile:\n",
      "            row = i.rstrip().split('\\t')\n",
      "            if float(row[1]) > 0:\n",
      "                positiveWords[row[0]] = float(row[1])\n",
      "            elif float(row[1]) < 0:\n",
      "                negativeWords[row[0]] = float(row[1])\n",
      "                \n",
      "    return {\"pos\":positiveWords, \"neg\":negativeWords}\n",
      "\n",
      "sentiment140 = loadSentiment140Lexicon()\n",
      "\n",
      "def loadSentiment140LexiconBigrams():\n",
      "    negativeWords = {}\n",
      "    positiveWords = {}\n",
      "    with open('./sentimentData/lexicons/Sentiment140-Lexicon-v0.1/bigrams-pmilexicon.txt','r') as iFile:\n",
      "        iCSV = csv.reader(iFile, delimiter='\\t')\n",
      "        for i in iFile:\n",
      "            row = i.rstrip().split('\\t')\n",
      "            if float(row[1]) > 0:\n",
      "                positiveWords[row[0]] = float(row[1])\n",
      "            elif float(row[1]) < 0:\n",
      "                negativeWords[row[0]] = float(row[1])\n",
      "                \n",
      "    return {\"pos\":positiveWords, \"neg\":negativeWords}\n",
      "\n",
      "sentiment140Bigrams = loadSentiment140LexiconBigrams()"
     ],
     "language": "python",
     "metadata": {},
     "outputs": [],
     "prompt_number": 8
    },
    {
     "cell_type": "markdown",
     "metadata": {},
     "source": [
      "The following code generates all the features used and then builds the training and testing datasets"
     ]
    },
    {
     "cell_type": "code",
     "collapsed": false,
     "input": [
      "unescape = HTMLParser().unescape\n",
      "URL = re.compile('http://[^ ]+')\n",
      "EXCLAMATION = re.compile('!!+$')\n",
      "QUESTION = re.compile('\\?\\?+$')\n",
      "EXCLQUEST = re.compile('[?!][?!]+$')\n",
      "#USERNAMES = re.compile('(?<=^|(?<=[^a-zA-Z0-9-\\.]))#([A-Za-z_]+[A-Za-z0-9_]+)')\n",
      "USERNAMES =  re.compile('(@\\w+)+')\n",
      "punctuation = dict([(x,1) for x in '!.?,'])\n",
      "\n",
      "def genFeatures(text):\n",
      "    text = text.lower()\n",
      "    newText = unescape(URL.sub('{link}', text).replace('{link}', 'TWEETURL'))\n",
      "    newText  = USERNAMES.sub('{uname}', newText).replace('{uname}', '@TWITTERUSERNAME')\n",
      "    tmp = twokenize.tokenize(newText)\n",
      "    #bigrams = dict([(tmp[x].lower()+' '+tmp[x+1].lower(), 1) for x in range(len(tmp)-1) if tmp[x] not in punctuation and tmp[x+1] not in punctuation and EXCLQUEST.match(tmp[x]) is None and EXCLQUEST.match(tmp[x+1]) is None])\n",
      "    #unigrams = dict([(tmp[x].lower(),1) for x in range(len(tmp)) if tmp[x] not in punctuation and EXCLQUEST.match(tmp[x]) is None])\n",
      "    bigrams = dict([(tmp[x]+' '+tmp[x+1], 1) for x in range(len(tmp)-1) if EXCLQUEST.match(tmp[x]) is None and EXCLQUEST.match(tmp[x+1]) is None])\n",
      "    unigrams = dict([(tmp[x].lower(),1) for x in range(len(tmp)) if EXCLQUEST.match(tmp[x]) is None])\n",
      "    numCapWords = len([x for x in tmp if x.isupper()])\n",
      "    numExclamations = len([x for x in tmp if EXCLAMATION.match(x) is not None])\n",
      "    numQuestions = len([x for x in tmp if QUESTION.match(x) is not None])\n",
      "    numExclQuest  = len([x for x in tmp if EXCLQUEST.match(x) is not None and '!' in x and '?' in x])\n",
      "    bingLiuPosCount  = len([x for x in unigrams.keys() if x in bingLiu['pos']])\n",
      "    bingLiuNegCount  = len([x for x in unigrams.keys() if x in bingLiu['neg']])\n",
      "    nrcEmotionPosCount = len([ x for x in unigrams.keys() if x in nrcEmotion['pos']])\n",
      "    nrcEmotionNegCount = len([x for x in unigrams.keys() if x in nrcEmotion['neg']])\n",
      "    mpaaPosCount = len([ x for x in unigrams.keys() if x in mpaa['pos']])\n",
      "    mpaaNegCount = len([x for x in unigrams.keys() if x in mpaa['neg']])\n",
      "    nrcHashtagPosCount = len([x for x in unigrams.keys() if x in nrcHashtag['pos']])\n",
      "    nrcHashtagNegCount = len([x for x in unigrams.keys() if x in nrcHashtag['neg']])\n",
      "    nrcHashtagBigramsPosCount = len([x for x in bigrams.keys() if x in nrcHashtagBigrams['pos']])\n",
      "    nrcHashtagBigramsNegCount = len([x for x in bigrams.keys() if x in nrcHashtagBigrams['neg']])\n",
      "    nrcHashtagPosSum = np.sum([nrcHashtag['pos'][x] for x in[k for k in unigrams.keys() if k in nrcHashtag['pos']]])\n",
      "    nrcHashtagNegSum = np.absolute(np.sum([nrcHashtag['neg'][x] for x in [k for k in unigrams.keys() if k in nrcHashtag['neg']]]))\n",
      "    nrcHashtagBigramsPosSum = np.sum([nrcHashtagBigrams['pos'][x] for x in [k for k in bigrams.keys() if k in nrcHashtagBigrams['pos']]])\n",
      "    nrcHashtagBigramsNegSum = np.absolute(np.sum([nrcHashtagBigrams['neg'][x] for x in [k for k in bigrams.keys() if k in nrcHashtagBigrams['neg']]]))\n",
      "    nrcHashtagPosMax = np.max([0]+[nrcHashtag['pos'][x] for x in [k for k in unigrams.keys() if k in nrcHashtag['pos']]])\n",
      "    nrcHashtagNegMax = np.max(np.absolute([0]+[nrcHashtag['neg'][x] for x in [k for k in unigrams.keys() if k in nrcHashtag['neg']]]))\n",
      "    nrcHashtagBigramsPosMax = np.max([0]+[nrcHashtagBigrams['pos'][x] for x in [k for k in bigrams.keys() if k in nrcHashtagBigrams['pos']]])\n",
      "    nrcHashtagBigramsNegMax = np.max(np.absolute([0]+[nrcHashtagBigrams['neg'][x] for x in [k for k in bigrams.keys() if k in nrcHashtagBigrams['neg']]]))\n",
      "    \n",
      "    sentiment140PosCount = len([x for x in unigrams.keys() if x in sentiment140['pos']])\n",
      "    sentiment140NegCount = len([x for x in unigrams.keys() if x in sentiment140['neg']])\n",
      "    sentiment140BigramsPosCount = len([x for x in bigrams.keys() if x in sentiment140Bigrams['pos']])\n",
      "    sentiment140BigramsNegCount = len([x for x in bigrams.keys() if x in sentiment140Bigrams['neg']])\n",
      "    sentiment140PosSum = np.sum([sentiment140['pos'][x] for x in [k for k in unigrams.keys() if k in sentiment140['pos']]])\n",
      "    sentiment140NegSum = np.absolute(np.sum([sentiment140['neg'][x] for x in [k for k in unigrams.keys() if k in sentiment140['neg']]]))\n",
      "    sentiment140BigramsPosSum = np.sum([sentiment140Bigrams['pos'][x] for x in [k for k in bigrams.keys() if k in sentiment140Bigrams['pos']]])\n",
      "    sentiment140BigramsNegSum = np.absolute(np.sum([sentiment140Bigrams['neg'][x] for x in [k for k in bigrams.keys() if k in sentiment140Bigrams['neg']]]))\n",
      "    sentiment140PosMax = np.max([0]+[sentiment140['pos'][x] for x in [k for k in unigrams.keys() if k in sentiment140['pos']]])\n",
      "    sentiment140NegMax = np.max(np.absolute([0]+[sentiment140['neg'][x] for x in [k for k in unigrams.keys() if k in sentiment140['neg']]]))\n",
      "    sentiment140BigramsPosMax = np.max([0]+[sentiment140Bigrams['pos'][x] for x in [k for k in bigrams.keys() if k in sentiment140Bigrams['pos']]])\n",
      "    sentiment140BigramsNegMax = np.max(np.absolute([0]+[sentiment140Bigrams['neg'][x] for x in [k for k in bigrams.keys() if k in sentiment140Bigrams['neg']]]))\n",
      "    \n",
      "    extraFeatures = {\"NUMCAPWORDS\":numCapWords, \"NUMEXCLAMATIONS\":numExclamations, \"NUMQUESTIONS\":numQuestions, \"NUMEXCLQUEST\":numExclQuest,\n",
      "            \"BINGLIUPOSCOUNT\":bingLiuPosCount, \"BINGLIUNEGCOUNT\":bingLiuNegCount,\n",
      "            \"NRCEMOTIONPOSCOUNT\":nrcEmotionPosCount, \"NRCEMOTIONNEGCOUNT\":nrcEmotionNegCount,\n",
      "            \"MPAAPOSCOUNT\":mpaaPosCount, \"MPAANEGCOUNT\":mpaaNegCount,\n",
      "            \"NRCHASHTAGPOSCOUNT\":nrcHashtagPosCount, \"NRCHASHTAGNEGCOUNT\":nrcHashtagNegCount,\n",
      "            \"NRCHASHTAGBIGRAMSPOSCOUNT\":nrcHashtagBigramsPosCount, \"NRCHASHTAGBIGRAMSNEGCOUNT\":nrcHashtagBigramsNegCount,\n",
      "            \"NRCHASHTAGPOSSUM\":nrcHashtagPosSum, \"NRCHASHTAGNEGSUM\":nrcHashtagNegSum,\n",
      "            \"NRCHASHTAGBIGRAMSPOSSUM\":nrcHashtagBigramsPosSum, \"NRCHHASHTAGBIGRAMSNEGSUM\":nrcHashtagBigramsNegSum,\n",
      "            \"NRCHHASHTAGPOSMAX\":nrcHashtagPosMax, \"NRCHASHTAGNEGMAX\":nrcHashtagNegMax,\n",
      "            \"NRCHASHTAGBIGRAMSPOSMAX\":nrcHashtagBigramsPosMax, \"NRCHASHTAGBIGRAMSNEGMAX\":nrcHashtagBigramsNegMax,\n",
      "            \"SENTIMENT140POSCOUNT\":sentiment140PosCount, \"SENTIMENT140NEGCOUNT\":sentiment140NegCount,\n",
      "            \"SENTIMENT140BIGRAMSPOSCOUNT\":sentiment140BigramsPosCount, \"SENTIMENT140BIGRAMSNEGCOUNT\":sentiment140BigramsNegCount,\n",
      "            \"SENTIMENT140POSSUM\":sentiment140PosSum, \"SENTIMENT140NEGSUM\":sentiment140NegSum,\n",
      "            \"SENTIMENT140BIGRAMSEPOSSUM\":sentiment140BigramsPosSum, \"SENTIMENT140BIGRAMSNEGSUM\":sentiment140BigramsNegSum,\n",
      "            \"SENTIMENT140POSMAX\":sentiment140PosMax, \"SENTIMENT140NEGMAX\":sentiment140NegMax,\n",
      "            \"SENTIMENT140BIGRAMSPOSMAX\":sentiment140BigramsPosMax, \"SENTIMENT140BIGRAMSENEGMAX\":sentiment140BigramsNegMax}\n",
      "    finalDict = {}\n",
      "    for k,v in unigrams.iteritems():\n",
      "        finalDict[k] = v\n",
      "    for k,v in bigrams.iteritems():\n",
      "        finalDict[k] = v\n",
      "    for k,v in extraFeatures.iteritems():\n",
      "        finalDict[k] = v\n",
      "    return finalDict\n",
      " \n",
      "def loadTrainingData():\n",
      "    labels = []\n",
      "    trainFeatures = []\n",
      "    with open('./sentimentData/train/allTrainingData.tsv','r') as iFile:\n",
      "        iCSV = csv.reader(iFile, delimiter='\\t')\n",
      "        for row in iCSV:\n",
      "            if row[2] == 'positive':\n",
      "                labels.append('positive')\n",
      "            elif row[2] == 'negative':\n",
      "                labels.append('negative')\n",
      "            else:\n",
      "                labels.append('neutral')\n",
      "            trainFeatures.append(genFeatures(row[3]))\n",
      "    return (labels, trainFeatures)\n",
      "\n",
      "trainData = loadTrainingData()\n",
      "print len(trainData[0]), len(trainData[1])\n",
      "            \n",
      "#genFeatures(\"Gas by my miss long house they plan hit $3.39!!!! I'm going HAHA TEST to??? @auser Chapel?!??!!!? Hill on Sat. http://t.co/3klj43 :)\")\n",
      "    "
     ],
     "language": "python",
     "metadata": {},
     "outputs": [
      {
       "output_type": "stream",
       "stream": "stdout",
       "text": [
        "8002 8002\n"
       ]
      }
     ],
     "prompt_number": 9
    },
    {
     "cell_type": "code",
     "collapsed": false,
     "input": [
      "def loadSMSTestingData():\n",
      "    labels = []\n",
      "    trainFeatures = []\n",
      "    with open('./sentimentData/test/SemEval2013_task2_test_fixed/gold/sms-test-gold-B.tsv','r') as iFile:\n",
      "        iCSV = csv.reader(iFile, delimiter='\\t')\n",
      "        for row in iCSV:\n",
      "            if row[2] == 'positive':\n",
      "                labels.append('positive')\n",
      "            elif row[2] == 'negative':\n",
      "                labels.append('negative')\n",
      "            else:\n",
      "                labels.append('neutral')\n",
      "            trainFeatures.append(genFeatures(row[3]))\n",
      "    return (labels, trainFeatures)\n",
      "\n",
      "SMSData = loadSMSTestingData()"
     ],
     "language": "python",
     "metadata": {},
     "outputs": [],
     "prompt_number": 10
    },
    {
     "cell_type": "code",
     "collapsed": false,
     "input": [
      "def loadTwitterTestingData():\n",
      "    labels = []\n",
      "    trainFeatures = []\n",
      "    with open('./sentimentData/test/SemEval2013_task2_test_fixed/gold/twitdata_TEST.tsv','r') as iFile:\n",
      "        iCSV = csv.reader(iFile, delimiter='\\t')\n",
      "        for row in iCSV:\n",
      "            if row[2] == 'positive':\n",
      "                labels.append('positive')\n",
      "            elif row[2] == 'negative':\n",
      "                labels.append('negative')\n",
      "            else:\n",
      "                labels.append('neutral')\n",
      "            trainFeatures.append(genFeatures(row[3]))\n",
      "    return (labels, trainFeatures)\n",
      "\n",
      "twitterTestingData = loadTwitterTestingData()"
     ],
     "language": "python",
     "metadata": {},
     "outputs": [],
     "prompt_number": 11
    },
    {
     "cell_type": "code",
     "collapsed": false,
     "input": [
      "def loadTwitterValidationData():\n",
      "    labels = []\n",
      "    trainFeatures = []\n",
      "    with open('./sentimentData/twitdata_dev.tsv','r') as iFile:\n",
      "        iCSV = csv.reader(iFile, delimiter='\\t')\n",
      "        for row in iCSV:\n",
      "            if row[2] == 'positive':\n",
      "                labels.append('positive')\n",
      "            elif row[2] == 'negative':\n",
      "                labels.append('negative')\n",
      "            else:\n",
      "                labels.append('neutral')\n",
      "            trainFeatures.append(genFeatures(row[3]))\n",
      "    return (labels, trainFeatures)\n",
      "\n",
      "twitterValidationData = loadTwitterValidationData()"
     ],
     "language": "python",
     "metadata": {},
     "outputs": [],
     "prompt_number": 12
    },
    {
     "cell_type": "code",
     "collapsed": false,
     "input": [
      "vectorizer = DictVectorizer()\n",
      "trainingDataSparseMatrix = vectorizer.fit_transform(trainData[1])\n",
      "print '(number of Examples, numberOfFeatures)', trainingDataSparseMatrix.shape\n",
      "print '# of positive:', len([x for x in trainData[0] if x == 'positive'])\n",
      "print '# of negative:', len([x for x in trainData[0] if x == 'negative'])\n",
      "print '# of neurtral:', len([x for x in trainData[0] if x == 'neutral'])"
     ],
     "language": "python",
     "metadata": {},
     "outputs": [
      {
       "output_type": "stream",
       "stream": "stdout",
       "text": [
        "(number of Examples, numberOfFeatures) (8002, 108842)\n",
        "# of positive: 2974\n",
        "# of negative: 1159\n",
        "# of neurtral: 3869\n"
       ]
      }
     ],
     "prompt_number": 13
    },
    {
     "cell_type": "code",
     "collapsed": false,
     "input": [
      "smsDataSparseMatrix = vectorizer.transform(SMSData[1])"
     ],
     "language": "python",
     "metadata": {},
     "outputs": [],
     "prompt_number": 14
    },
    {
     "cell_type": "code",
     "collapsed": false,
     "input": [
      "twitterTestDataSparseMatrix = vectorizer.transform(twitterTestingData[1])"
     ],
     "language": "python",
     "metadata": {},
     "outputs": [],
     "prompt_number": 15
    },
    {
     "cell_type": "code",
     "collapsed": false,
     "input": [
      "twitterValidDataSparseMatrix = vectorizer.transform(twitterValidationData[1])"
     ],
     "language": "python",
     "metadata": {},
     "outputs": [],
     "prompt_number": 16
    },
    {
     "cell_type": "markdown",
     "metadata": {},
     "source": [
      "This next cell trains a linear SVM and uses gridsearch+cross-validation to find the best C parameter."
     ]
    },
    {
     "cell_type": "code",
     "collapsed": false,
     "input": [
      "from sklearn import cross_validation\n",
      "from sklearn.svm import LinearSVC\n",
      "from sklearn.metrics import f1_score, make_scorer\n",
      "from sklearn.grid_search import GridSearchCV\n",
      "macroF1  = make_scorer(f1_score, average='macro')\n",
      "parameters = {'tol':[0.00001], 'C':[0.0001, 0.001, 0.01, 0.1, 1., 10., 100.]}\n",
      "lSVC = LinearSVC()\n",
      "clf = GridSearchCV(lSVC, parameters, scoring=macroF1, verbose=1)\n",
      "clf.fit(trainingDataSparseMatrix, trainData[0])\n",
      "#scores = cross_validation.cross_val_score(clf, trainingDataSparseMatrix, trainData[0], cv=10, scoring=macroF1, verbose=1)\n",
      "print clf.best_score_\n",
      "print clf.best_params_"
     ],
     "language": "python",
     "metadata": {},
     "outputs": [
      {
       "output_type": "stream",
       "stream": "stderr",
       "text": [
        "[Parallel(n_jobs=1)]: Done   1 jobs       | elapsed:    0.9s\n",
        "[Parallel(n_jobs=1)]: Done  21 out of  21 | elapsed:  1.9min finished\n"
       ]
      },
      {
       "output_type": "stream",
       "stream": "stdout",
       "text": [
        "Fitting 3 folds for each of 7 candidates, totalling 21 fits\n",
        "0.655169578018"
       ]
      },
      {
       "output_type": "stream",
       "stream": "stdout",
       "text": [
        "\n",
        "{'C': 0.01, 'tol': 1e-05}\n"
       ]
      }
     ],
     "prompt_number": 17
    },
    {
     "cell_type": "code",
     "collapsed": false,
     "input": [
      "from sklearn.linear_model import SGDClassifier\n",
      "Ntrain = 8002\n",
      "sizes = np.linspace(12, Ntrain, 20).astype(int)\n",
      "trainErr = np.zeros(sizes.shape)\n",
      "valErr = np.zeros(sizes.shape)\n",
      "t0 = time()\n",
      "for i, size in enumerate(sizes):\n",
      "    plotClf = LinearSVC(tol=0.00001, C=0.01)\n",
      "    #plotClf = SGDClassifier(penalty='l2', alpha=0.0001, n_iter=300, shuffle=True)\n",
      "    plotClf.fit(trainingDataSparseMatrix[:size,:], trainData[0][:size])\n",
      "    plotPreds = plotClf.predict(twitterValidDataSparseMatrix)\n",
      "    valErr[i] = f1_score(twitterValidationData[0], plotPreds, average='macro')\n",
      "    plotTrainPreds = plotClf.predict(trainingDataSparseMatrix[:size])\n",
      "    trainErr[i] = f1_score(trainData[0][:size], plotTrainPreds, average='macro')\n",
      "print 'Finished calculating learning curve values in %d seconds.' % (time()-t0)"
     ],
     "language": "python",
     "metadata": {},
     "outputs": [
      {
       "output_type": "stream",
       "stream": "stdout",
       "text": [
        "Finished calculating learning curve values in 112 seconds.\n"
       ]
      }
     ],
     "prompt_number": 18
    },
    {
     "cell_type": "code",
     "collapsed": false,
     "input": [
      "pl.figure()\n",
      "pl.plot(sizes, valErr, lw=2, label='Validation FScore')\n",
      "pl.plot(sizes, trainErr, lw=2, label='Training FScore')\n",
      "\n",
      "pl.xlabel('traning set size')\n",
      "pl.ylabel('Macro FScore')\n",
      "    \n",
      "pl.legend(loc = 4)\n",
      "    \n",
      "pl.ylim(.45, 1.05)\n",
      "pl.xlim(0, 8002)\n",
      "\n",
      "pl.show()\n",
      "print 'validation errors:', valErr\n",
      "print 'training errors:', trainErr"
     ],
     "language": "python",
     "metadata": {},
     "outputs": [
      {
       "metadata": {},
       "output_type": "display_data",
       "png": "[encoded data removed]",
       "text": [
        "<matplotlib.figure.Figure at 0xa97e08ec>"
       ]
      },
      {
       "output_type": "stream",
       "stream": "stdout",
       "text": [
        "validation errors: [ 0.50673277  0.58647746  0.608847    0.63261498  0.63061002  0.63838511\n",
        "  0.62893885  0.63944225  0.63721528  0.64533123  0.65444509  0.6534943\n",
        "  0.65217249  0.64986485  0.65854567  0.66605643  0.66091066  0.66211638\n",
        "  0.66521701  0.66654424]\n",
        "training errors: [ 1.          0.97949812  0.97775753  0.97429553  0.96976452  0.96776211\n",
        "  0.96471306  0.9645897   0.95982614  0.95839825  0.95899058  0.95346594\n",
        "  0.9523286   0.94985309  0.94993341  0.94735254  0.9462646   0.94720482\n",
        "  0.94421276  0.94391105]\n"
       ]
      }
     ],
     "prompt_number": 19
    },
    {
     "cell_type": "markdown",
     "metadata": {},
     "source": [
      "### Note\n",
      "This looks like a high variance situation. Adding more data could slightly increase the score. Feature selection could also be helpful."
     ]
    },
    {
     "cell_type": "markdown",
     "metadata": {},
     "source": [
      "For the final classifier I train on both testing and validation data"
     ]
    },
    {
     "cell_type": "code",
     "collapsed": false,
     "input": [
      "from scipy.sparse import vstack\n",
      "finalClf = LinearSVC(tol=0.00001, C=0.01)\n",
      "finalClf.fit(vstack([trainingDataSparseMatrix,twitterValidDataSparseMatrix]), trainData[0]+twitterValidationData[0])"
     ],
     "language": "python",
     "metadata": {},
     "outputs": [
      {
       "metadata": {},
       "output_type": "pyout",
       "prompt_number": 20,
       "text": [
        "LinearSVC(C=0.01, class_weight=None, dual=True, fit_intercept=True,\n",
        "     intercept_scaling=1, loss='l2', multi_class='ovr', penalty='l2',\n",
        "     random_state=None, tol=1e-05, verbose=0)"
       ]
      }
     ],
     "prompt_number": 20
    },
    {
     "cell_type": "markdown",
     "metadata": {},
     "source": [
      "The next two code cells use the model built above to test on the sms and twitter testing datasets."
     ]
    },
    {
     "cell_type": "code",
     "collapsed": false,
     "input": [
      "smsPredictions = finalClf.predict(smsDataSparseMatrix)\n",
      "print 'number of positive examples:', len([x for x in smsPredictions if x == 'positive'])\n",
      "print 'number of negative examples:', len([x for x in smsPredictions if x == 'negative'])\n",
      "print 'number of neurtral examples:', len([x for x in smsPredictions if x == 'neutral'])\n",
      "print 'macro averaged f1_score for SMS:', f1_score(SMSData[0], smsPredictions, average='macro')"
     ],
     "language": "python",
     "metadata": {},
     "outputs": [
      {
       "output_type": "stream",
       "stream": "stdout",
       "text": [
        "number of positive examples: 366\n",
        "number of negative examples: 310\n",
        "number of neurtral examples: 1418\n",
        "macro averaged f1_score for SMS: "
       ]
      },
      {
       "output_type": "stream",
       "stream": "stdout",
       "text": [
        "0.681760002923\n"
       ]
      }
     ],
     "prompt_number": 21
    },
    {
     "cell_type": "code",
     "collapsed": false,
     "input": [
      "twitterPredictions = finalClf.predict(twitterTestDataSparseMatrix)\n",
      "print 'number of positive examples:', len([x for x in twitterPredictions if x == 'positive'])\n",
      "print 'number of negative examples:', len([x for x in twitterPredictions if x == 'negative'])\n",
      "print 'number of neurtral examples:', len([x for x in twitterPredictions if x == 'neutral'])\n",
      "print 'macro averaged f1_score for Twitter Testset:', f1_score(twitterTestingData[0] , twitterPredictions, average='macro')"
     ],
     "language": "python",
     "metadata": {},
     "outputs": [
      {
       "output_type": "stream",
       "stream": "stdout",
       "text": [
        "number of positive examples: 985\n",
        "number of negative examples: 294\n",
        "number of neurtral examples: 1859\n",
        "macro averaged f1_score for Twitter Testset: 0.659389057059\n"
       ]
      }
     ],
     "prompt_number": 22
    },
    {
     "cell_type": "markdown",
     "metadata": {},
     "source": [
      "The following code saves the model to the disk"
     ]
    },
    {
     "cell_type": "code",
     "collapsed": false,
     "input": [
      "from sklearn.externals import joblib\n",
      "joblib.dump(finalClf, 'sentimentSMSClassifier.pkl') "
     ],
     "language": "python",
     "metadata": {},
     "outputs": [
      {
       "metadata": {},
       "output_type": "pyout",
       "prompt_number": 23,
       "text": [
        "['sentimentSMSClassifier.pkl',\n",
        " 'sentimentSMSClassifier.pkl_01.npy',\n",
        " 'sentimentSMSClassifier.pkl_02.npy',\n",
        " 'sentimentSMSClassifier.pkl_03.npy',\n",
        " 'sentimentSMSClassifier.pkl_04.npy',\n",
        " 'sentimentSMSClassifier.pkl_05.npy']"
       ]
      }
     ],
     "prompt_number": 23
    }
   ],
   "metadata": {}
  }
 ]
}